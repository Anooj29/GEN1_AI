{
 "cells": [
  {
   "cell_type": "code",
   "execution_count": null,
   "id": "06ed824c-c956-4f13-a0ea-e3594a3990f5",
   "metadata": {},
   "outputs": [],
   "source": []
  }
 ],
 "metadata": {
  "kernelspec": {
   "display_name": "Python 3 (ipykernel)",
   "language": "python",
   "name": "python3"
  },
  "language_info": {
   "name": ""
  }
 },
 "nbformat": 4,
 "nbformat_minor": 5
}
